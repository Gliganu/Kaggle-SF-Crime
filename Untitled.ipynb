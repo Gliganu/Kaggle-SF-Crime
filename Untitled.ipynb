{
 "cells": [
  {
   "cell_type": "code",
   "execution_count": null,
   "metadata": {},
   "outputs": [
    {
     "name": "stdout",
     "output_type": "stream",
     "text": [
      "Getting training data...\n",
      "Getting training data...\n",
      "TrainData size is: (250000, 9)\n",
      "TestData size is: (878049, 9)\n",
      "Train data size is 100000\n",
      "Performing feature engineering...\n",
      "Finished feature engineering after: 2.82800006866\n",
      "Train data features: ['Dates' 'DayOfWeek' 'PdDistrict' 'X' 'Y']"
     ]
    }
   ],
   "source": [
    "import Visualizer"
   ]
  },
  {
   "cell_type": "code",
   "execution_count": null,
   "metadata": {},
   "outputs": [],
   "source": [
    ""
   ]
  }
 ],
 "metadata": {
  "kernelspec": {
   "display_name": "Python 2",
   "language": "python",
   "name": "python2"
  },
  "language_info": {
   "codemirror_mode": {
    "name": "ipython",
    "version": 2.0
   },
   "file_extension": ".py",
   "mimetype": "text/x-python",
   "name": "python",
   "nbconvert_exporter": "python",
   "pygments_lexer": "ipython2",
   "version": "2.7.10"
  }
 },
 "nbformat": 4,
 "nbformat_minor": 0
}